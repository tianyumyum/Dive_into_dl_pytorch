{
 "cells": [
  {
   "attachments": {},
   "cell_type": "markdown",
   "id": "cd9f9a3b",
   "metadata": {},
   "source": [
    " ![image.png](Images/1.2矩阵与导数图片.png)"
   ]
  },
  {
   "cell_type": "code",
   "execution_count": null,
   "id": "774e19ed",
   "metadata": {},
   "outputs": [],
   "source": [
    "自动求导\n",
    "符号求导\n",
    "数值求导\n",
    "计算图：\n",
    "将代码分解成操作子，将计算表示成一个无环图"
   ]
  },
  {
   "cell_type": "code",
   "execution_count": 2,
   "id": "4971f6b5",
   "metadata": {},
   "outputs": [
    {
     "data": {
      "text/plain": [
       "tensor([0., 1., 2., 3.])"
      ]
     },
     "execution_count": 2,
     "metadata": {},
     "output_type": "execute_result"
    }
   ],
   "source": [
    "import torch\n",
    "x=torch.arange(4.0)\n",
    "x"
   ]
  },
  {
   "cell_type": "code",
   "execution_count": 3,
   "id": "f72fc4ce",
   "metadata": {},
   "outputs": [
    {
     "data": {
      "text/plain": [
       "tensor([0., 1., 2., 3.], requires_grad=True)"
      ]
     },
     "execution_count": 3,
     "metadata": {},
     "output_type": "execute_result"
    }
   ],
   "source": [
    "x.requires_grad_(True)"
   ]
  },
  {
   "cell_type": "markdown",
   "id": "adbe5cb4",
   "metadata": {},
   "source": [
    "现在让我们计算y"
   ]
  },
  {
   "cell_type": "code",
   "execution_count": 4,
   "id": "03accfc8",
   "metadata": {},
   "outputs": [
    {
     "data": {
      "text/plain": [
       "tensor(28., grad_fn=<MulBackward0>)"
      ]
     },
     "execution_count": 4,
     "metadata": {},
     "output_type": "execute_result"
    }
   ],
   "source": [
    "y=2*torch.dot(x,x)\n",
    "y"
   ]
  },
  {
   "cell_type": "markdown",
   "id": "c93e90fc",
   "metadata": {},
   "source": [
    "通过调用反向传播函数来自动计算y关于x每个分量的梯度"
   ]
  },
  {
   "cell_type": "code",
   "execution_count": 6,
   "id": "ddf77250",
   "metadata": {},
   "outputs": [
    {
     "data": {
      "text/plain": [
       "tensor([ 0.,  4.,  8., 12.])"
      ]
     },
     "execution_count": 6,
     "metadata": {},
     "output_type": "execute_result"
    }
   ],
   "source": [
    "y.backward()\n",
    "x.grad"
   ]
  },
  {
   "cell_type": "code",
   "execution_count": 7,
   "id": "83c3201d",
   "metadata": {},
   "outputs": [
    {
     "data": {
      "text/plain": [
       "tensor([True, True, True, True])"
      ]
     },
     "execution_count": 7,
     "metadata": {},
     "output_type": "execute_result"
    }
   ],
   "source": [
    "x.grad==4*x"
   ]
  },
  {
   "cell_type": "markdown",
   "id": "fcd7608d",
   "metadata": {},
   "source": [
    "现在我们计算x的另一个函数"
   ]
  },
  {
   "cell_type": "code",
   "execution_count": 17,
   "id": "01d6ef51",
   "metadata": {},
   "outputs": [
    {
     "name": "stdout",
     "output_type": "stream",
     "text": [
      "tensor(6., grad_fn=<SumBackward0>)\n",
      "tensor([1., 1., 1., 1.])\n"
     ]
    }
   ],
   "source": [
    "#在默认情况下，Pytorch会累积梯度，我们需要清除之前的值\n",
    "x.grad.zero_()#pytorch中下划线表示重写内容\n",
    "y=x.sum()\n",
    "print(y)\n",
    "y.sum().backward()\n",
    "print(x.grad)"
   ]
  },
  {
   "cell_type": "markdown",
   "id": "16f40283",
   "metadata": {},
   "source": [
    "深度学习中，我们的目的不是计算微分矩阵，而是批量中每个样本单独计算的偏导数之和。"
   ]
  },
  {
   "cell_type": "code",
   "execution_count": 18,
   "id": "e123c634",
   "metadata": {},
   "outputs": [
    {
     "data": {
      "text/plain": [
       "tensor([0., 2., 4., 6.])"
      ]
     },
     "execution_count": 18,
     "metadata": {},
     "output_type": "execute_result"
    }
   ],
   "source": [
    "x.grad.zero_()\n",
    "y=x*x\n",
    "#等价于y.backward(torch.ones(len(x)))\n",
    "y.sum().backward()\n",
    "x.grad"
   ]
  },
  {
   "cell_type": "markdown",
   "id": "c26a32f5",
   "metadata": {},
   "source": [
    "将某些计算移动到记录的计算图之外"
   ]
  },
  {
   "cell_type": "code",
   "execution_count": 19,
   "id": "9c46d0f5",
   "metadata": {},
   "outputs": [
    {
     "data": {
      "text/plain": [
       "tensor([True, True, True, True])"
      ]
     },
     "execution_count": 19,
     "metadata": {},
     "output_type": "execute_result"
    }
   ],
   "source": [
    "x.grad.zero_()\n",
    "y=x*x\n",
    "u=y.detach()#把y当作一个常数\n",
    "z=u*x\n",
    "\n",
    "z.sum().backward()\n",
    "x.grad==u"
   ]
  },
  {
   "cell_type": "code",
   "execution_count": 20,
   "id": "e5453970",
   "metadata": {},
   "outputs": [
    {
     "data": {
      "text/plain": [
       "tensor([True, True, True, True])"
      ]
     },
     "execution_count": 20,
     "metadata": {},
     "output_type": "execute_result"
    }
   ],
   "source": [
    "x.grad.zero_()\n",
    "y.sum().backward()\n",
    "x.grad==2*x"
   ]
  },
  {
   "cell_type": "markdown",
   "id": "925bf83e",
   "metadata": {},
   "source": [
    "构建函数的计算图，通过Python控制流"
   ]
  },
  {
   "cell_type": "code",
   "execution_count": 22,
   "id": "3fdf0d53",
   "metadata": {},
   "outputs": [],
   "source": [
    "def f(a):\n",
    "    b=a*2\n",
    "    while b.norm()<1000:\n",
    "        b=b*2\n",
    "    if b.sum()>0:\n",
    "        c=b\n",
    "    else:\n",
    "        c=100*b\n",
    "    return c\n",
    "\n",
    "a=torch.randn(size=(),requires_grad=True)#标量，随机数\n",
    "d=f(a)\n",
    "d.backward()"
   ]
  },
  {
   "cell_type": "code",
   "execution_count": null,
   "id": "fe0d7f7d",
   "metadata": {},
   "outputs": [],
   "source": []
  }
 ],
 "metadata": {
  "kernelspec": {
   "display_name": "py38",
   "language": "python",
   "name": "py38"
  },
  "language_info": {
   "codemirror_mode": {
    "name": "ipython",
    "version": 3
   },
   "file_extension": ".py",
   "mimetype": "text/x-python",
   "name": "python",
   "nbconvert_exporter": "python",
   "pygments_lexer": "ipython3",
   "version": "3.8.13"
  }
 },
 "nbformat": 4,
 "nbformat_minor": 5
}
