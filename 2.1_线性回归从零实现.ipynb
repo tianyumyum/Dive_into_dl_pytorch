{
 "cells": [
  {
   "cell_type": "markdown",
   "id": "00906035",
   "metadata": {},
   "source": [
    "# 2.1 线性回归的从零开始实现\n",
    "包括数据流水线、模型、损失函数和小批量随机梯度下降优化器"
   ]
  },
  {
   "cell_type": "code",
   "execution_count": null,
   "id": "89872d2f",
   "metadata": {},
   "outputs": [
    {
     "ename": "",
     "evalue": "",
     "output_type": "error",
     "traceback": [
      "\u001b[1;31mFailed to start the Kernel. \n",
      "\u001b[1;31mFailed to start the Kernel 'py38 (Python 3.8.13)'. \n",
      "\u001b[1;31mView Jupyter <a href='command:jupyter.viewOutput'>log</a> for further details. Activating /usr/local/bin/python3 to run Jupyter failed with Error: Workspace not trusted"
     ]
    }
   ],
   "source": [
    "%matplotlib inline\n",
    "import random\n",
    "import torch\n",
    "from d2l import torch as d2l"
   ]
  },
  {
   "cell_type": "markdown",
   "id": "6948be2a",
   "metadata": {},
   "source": [
    "## 2.1.1构造数据集\n",
    "根据带有噪声的线性模型构造一个人造数据集，我们使用线性模型参数w=[2,-3.4],b=4.2和噪声项$\\epsilon$生成数据集及其标签。\n",
    "$$\n",
    "\\mathbf{y}=\\mathbf{X} \\mathbf{w}+b+\\epsilon\n",
    "$$"
   ]
  },
  {
   "cell_type": "code",
   "execution_count": null,
   "id": "a72a68ba",
   "metadata": {},
   "outputs": [
    {
     "ename": "",
     "evalue": "",
     "output_type": "error",
     "traceback": [
      "\u001b[1;31mFailed to start the Kernel. \n",
      "\u001b[1;31mFailed to start the Kernel 'py38 (Python 3.8.13)'. \n",
      "\u001b[1;31mView Jupyter <a href='command:jupyter.viewOutput'>log</a> for further details. Activating /usr/local/bin/python3 to run Jupyter failed with Error: Workspace not trusted"
     ]
    }
   ],
   "source": [
    "def synthetic_data(w,b,num_examples):\n",
    "    \"\"\"生成y=Xw+b+噪声\"\"\"\n",
    "    X=torch.normal(0,1,(num_examples,len(w)))#均值为0，方差为1的随机数，大小为num_examples,列数为w的长度）\n",
    "    y=torch.matmul(X,w)+b\n",
    "    y+=torch.normal(0,0.01,y.shape)#噪声项为服从均值为0的正态分布，标准差为0.01\n",
    "    \n",
    "    return X,y.reshape((-1,1))# 最后把X，y做成列向量返回\n",
    "                   \n",
    "true_w=torch.tensor([2,-3.4])\n",
    "true_b=4.2\n",
    "features,labels=synthetic_data(true_w,true_b,1000)\n"
   ]
  },
  {
   "cell_type": "code",
   "execution_count": null,
   "id": "186dce21",
   "metadata": {},
   "outputs": [
    {
     "ename": "",
     "evalue": "",
     "output_type": "error",
     "traceback": [
      "\u001b[1;31mFailed to start the Kernel. \n",
      "\u001b[1;31mFailed to start the Kernel 'py38 (Python 3.8.13)'. \n",
      "\u001b[1;31mView Jupyter <a href='command:jupyter.viewOutput'>log</a> for further details. Activating /usr/local/bin/python3 to run Jupyter failed with Error: Workspace not trusted"
     ]
    }
   ],
   "source": [
    "print('features:',features[0],'\\nlabel:',labels[0])#看一下第0个样本"
   ]
  },
  {
   "cell_type": "code",
   "execution_count": null,
   "id": "ca3b8e0a",
   "metadata": {},
   "outputs": [
    {
     "ename": "",
     "evalue": "",
     "output_type": "error",
     "traceback": [
      "\u001b[1;31mFailed to start the Kernel. \n",
      "\u001b[1;31mFailed to start the Kernel 'py38 (Python 3.8.13)'. \n",
      "\u001b[1;31mView Jupyter <a href='command:jupyter.viewOutput'>log</a> for further details. Activating /usr/local/bin/python3 to run Jupyter failed with Error: Workspace not trusted"
     ]
    }
   ],
   "source": [
    "d2l.set_figsize()\n",
    "d2l.plt.scatter(features[:,1].detach().numpy(),#detach分离出数值，没有梯度\n",
    "               labels.detach().numpy(),1)"
   ]
  },
  {
   "cell_type": "code",
   "execution_count": null,
   "id": "ff91ccf7",
   "metadata": {},
   "outputs": [
    {
     "ename": "",
     "evalue": "",
     "output_type": "error",
     "traceback": [
      "\u001b[1;31mFailed to start the Kernel. \n",
      "\u001b[1;31mFailed to start the Kernel 'py38 (Python 3.8.13)'. \n",
      "\u001b[1;31mView Jupyter <a href='command:jupyter.viewOutput'>log</a> for further details. Activating /usr/local/bin/python3 to run Jupyter failed with Error: Workspace not trusted"
     ]
    }
   ],
   "source": [
    "#features"
   ]
  },
  {
   "cell_type": "code",
   "execution_count": null,
   "id": "e833e1ab",
   "metadata": {},
   "outputs": [
    {
     "ename": "",
     "evalue": "",
     "output_type": "error",
     "traceback": [
      "\u001b[1;31mFailed to start the Kernel. \n",
      "\u001b[1;31mFailed to start the Kernel 'py38 (Python 3.8.13)'. \n",
      "\u001b[1;31mView Jupyter <a href='command:jupyter.viewOutput'>log</a> for further details. Activating /usr/local/bin/python3 to run Jupyter failed with Error: Workspace not trusted"
     ]
    }
   ],
   "source": [
    "#features[:,1]"
   ]
  },
  {
   "cell_type": "markdown",
   "id": "7a95ab2c",
   "metadata": {},
   "source": [
    "## 2.1.2 读取数据集"
   ]
  },
  {
   "cell_type": "markdown",
   "id": "d17495ea",
   "metadata": {},
   "source": [
    "定义一个data_iter函数。输入为函数接受量大小、特征矩阵和标签向量，生成大小为batch_size的小批量。"
   ]
  },
  {
   "cell_type": "code",
   "execution_count": null,
   "id": "0b028012",
   "metadata": {},
   "outputs": [
    {
     "ename": "",
     "evalue": "",
     "output_type": "error",
     "traceback": [
      "\u001b[1;31mFailed to start the Kernel. \n",
      "\u001b[1;31mFailed to start the Kernel 'py38 (Python 3.8.13)'. \n",
      "\u001b[1;31mView Jupyter <a href='command:jupyter.viewOutput'>log</a> for further details. Activating /usr/local/bin/python3 to run Jupyter failed with Error: Workspace not trusted"
     ]
    }
   ],
   "source": [
    "def data_iter(batch_size,features,labels):\n",
    "    num_examples=len(features)\n",
    "    indices=list(range(num_examples))\n",
    "    \n",
    "    random.shuffle(indices)#随机打乱\n",
    "    \n",
    "    for i in range(0,num_examples,batch_size):\n",
    "        batch_indices=torch.tensor(\n",
    "            indices[i:min(i+batch_size,num_examples)])\n",
    "        yield features[batch_indices],labels[batch_indices]\n",
    "\n",
    "batch_size=10\n",
    "\n",
    "for X,y in data_iter(batch_size,features,labels):\n",
    "    print(X,'\\n',y)\n",
    "    break\n",
    "    "
   ]
  },
  {
   "cell_type": "markdown",
   "id": "a446f80b",
   "metadata": {},
   "source": [
    "## 2.1.3 定义初始化模型参数"
   ]
  },
  {
   "cell_type": "code",
   "execution_count": null,
   "id": "e6a273eb",
   "metadata": {},
   "outputs": [
    {
     "ename": "",
     "evalue": "",
     "output_type": "error",
     "traceback": [
      "\u001b[1;31mFailed to start the Kernel. \n",
      "\u001b[1;31mFailed to start the Kernel 'py38 (Python 3.8.13)'. \n",
      "\u001b[1;31mView Jupyter <a href='command:jupyter.viewOutput'>log</a> for further details. Activating /usr/local/bin/python3 to run Jupyter failed with Error: Workspace not trusted"
     ]
    }
   ],
   "source": [
    "w=torch.normal(0,0.01,size=(2,1),requires_grad=True)#输入为2，所以参数也是长为2的向量\n",
    "b=torch.zeros(1,requires_grad=True)#对偏差进行更新"
   ]
  },
  {
   "cell_type": "markdown",
   "id": "5d7b898a",
   "metadata": {},
   "source": [
    "## 2.1.4 定义模型"
   ]
  },
  {
   "cell_type": "code",
   "execution_count": null,
   "id": "863ac50b",
   "metadata": {},
   "outputs": [
    {
     "ename": "",
     "evalue": "",
     "output_type": "error",
     "traceback": [
      "\u001b[1;31mFailed to start the Kernel. \n",
      "\u001b[1;31mFailed to start the Kernel 'py38 (Python 3.8.13)'. \n",
      "\u001b[1;31mView Jupyter <a href='command:jupyter.viewOutput'>log</a> for further details. Activating /usr/local/bin/python3 to run Jupyter failed with Error: Workspace not trusted"
     ]
    }
   ],
   "source": [
    "def linreg(X,w,b):\n",
    "    \"\"\"线性回归模型\"\"\"\n",
    "    return torch.matmul(X,w)+b"
   ]
  },
  {
   "cell_type": "markdown",
   "id": "eef6071c",
   "metadata": {},
   "source": [
    "## 2.1.5 定义损失函数"
   ]
  },
  {
   "cell_type": "code",
   "execution_count": null,
   "id": "8a2498b0",
   "metadata": {},
   "outputs": [
    {
     "ename": "",
     "evalue": "",
     "output_type": "error",
     "traceback": [
      "\u001b[1;31mFailed to start the Kernel. \n",
      "\u001b[1;31mFailed to start the Kernel 'py38 (Python 3.8.13)'. \n",
      "\u001b[1;31mView Jupyter <a href='command:jupyter.viewOutput'>log</a> for further details. Activating /usr/local/bin/python3 to run Jupyter failed with Error: Workspace not trusted"
     ]
    }
   ],
   "source": [
    "def squred_loss(y_hat,y):\n",
    "    \"\"\"均方损失\"\"\"\n",
    "    return (y_hat-y.reshape(y_hat.shape))**2/2"
   ]
  },
  {
   "cell_type": "markdown",
   "id": "795b9c54",
   "metadata": {},
   "source": [
    "## 2.1.6 定义优化算法"
   ]
  },
  {
   "cell_type": "markdown",
   "id": "88b64f41",
   "metadata": {},
   "source": [
    "小批量优化算法：每一步中，使用从数据集中抽取的一个小批量，根据参数计算损失的梯度，接着朝着减少损失的方向更新我们的参数。"
   ]
  },
  {
   "cell_type": "code",
   "execution_count": null,
   "id": "9907acb5",
   "metadata": {},
   "outputs": [
    {
     "ename": "",
     "evalue": "",
     "output_type": "error",
     "traceback": [
      "\u001b[1;31mFailed to start the Kernel. \n",
      "\u001b[1;31mFailed to start the Kernel 'py38 (Python 3.8.13)'. \n",
      "\u001b[1;31mView Jupyter <a href='command:jupyter.viewOutput'>log</a> for further details. Activating /usr/local/bin/python3 to run Jupyter failed with Error: Workspace not trusted"
     ]
    }
   ],
   "source": [
    "def sgd(params,lr,batch_size):#给定所有参数（包含w和b），学习率，batch_size\n",
    "    \"\"\"小批量随机\"\"\"\n",
    "    with torch.no_grad():#更新的时候不用计算梯度\n",
    "        for param in params:\n",
    "            param-=lr*param.grad/batch_size\n",
    "            param.grad.zero_()"
   ]
  },
  {
   "cell_type": "markdown",
   "id": "c15d6294",
   "metadata": {},
   "source": [
    "## 2.1.7 训练"
   ]
  },
  {
   "cell_type": "code",
   "execution_count": null,
   "id": "b5fbf829",
   "metadata": {},
   "outputs": [
    {
     "ename": "",
     "evalue": "",
     "output_type": "error",
     "traceback": [
      "\u001b[1;31mFailed to start the Kernel. \n",
      "\u001b[1;31mFailed to start the Kernel 'py38 (Python 3.8.13)'. \n",
      "\u001b[1;31mView Jupyter <a href='command:jupyter.viewOutput'>log</a> for further details. Activating /usr/local/bin/python3 to run Jupyter failed with Error: Workspace not trusted"
     ]
    }
   ],
   "source": [
    "#制定超参数\n",
    "lr= 0.03\n",
    "num_epochs=3\n",
    "net=linreg\n",
    "loss=squared_loss\n",
    "\n",
    "for epoch in range(num_epochs):\n",
    "    for X,y in data_iter(batch_size,features,labels):\n",
    "        l=loss(net(X,w,b),y)\n",
    "\n",
    "        l.sum().backward()\n",
    "        sgd([w,b],lr,batch_size)\n",
    "    with torch.no_grad():\n",
    "        train_l=loss(net(features,w,b),labels)#features是全部的权重向量\n",
    "        print(f'epoch{epoch+1}, loss{float(train_l.mean()):f}')\n",
    "\n"
   ]
  }
 ],
 "metadata": {
  "kernelspec": {
   "display_name": "py38",
   "language": "python",
   "name": "python3"
  },
  "language_info": {
   "codemirror_mode": {
    "name": "ipython",
    "version": 3
   },
   "file_extension": ".py",
   "mimetype": "text/x-python",
   "name": "python",
   "nbconvert_exporter": "python",
   "pygments_lexer": "ipython3",
   "version": "3.8.13 (default, Mar 28 2022, 06:13:39) \n[Clang 12.0.0 ]"
  },
  "vscode": {
   "interpreter": {
    "hash": "8dfb4c0b3f6ac3a64d7a4572975dd3eb4bfd4b5491ce12660c6428802afd775b"
   }
  }
 },
 "nbformat": 4,
 "nbformat_minor": 5
}
